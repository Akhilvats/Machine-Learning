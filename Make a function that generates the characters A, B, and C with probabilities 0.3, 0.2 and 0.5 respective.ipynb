{
 "cells": [
  {
   "cell_type": "code",
   "execution_count": 21,
   "metadata": {},
   "outputs": [],
   "source": [
    "#Make a function that generates the characters A, B, and C with probabilities 0.3, 0.2 and 0.5 respectively.\n",
    "import numpy as np"
   ]
  },
  {
   "cell_type": "code",
   "execution_count": 22,
   "metadata": {},
   "outputs": [],
   "source": [
    "def random_function():\n",
    "    r = np.random.random()\n",
    "    if r < 0.3:\n",
    "        return 'A'\n",
    "    elif r >= 0.3 and r < 0.5:\n",
    "        return 'B'\n",
    "    return 'C'"
   ]
  },
  {
   "cell_type": "code",
   "execution_count": 23,
   "metadata": {},
   "outputs": [
    {
     "name": "stdout",
     "output_type": "stream",
     "text": [
      "0.303 0.207 0.49\n"
     ]
    }
   ],
   "source": [
    "N = 1000\n",
    "a, b, c = 0, 0, 0\n",
    "\n",
    "for ix in range(N):\n",
    "    v = random_function()\n",
    "    if v == 'A':\n",
    "        a+= 1\n",
    "    elif v =='B':\n",
    "        b+= 1\n",
    "    else:\n",
    "        c+= 1\n",
    "print(float(a)/N, float(b)/N, float(c)/N)"
   ]
  }
 ],
 "metadata": {
  "kernelspec": {
   "display_name": "Python 3",
   "language": "python",
   "name": "python3"
  },
  "language_info": {
   "codemirror_mode": {
    "name": "ipython",
    "version": 3
   },
   "file_extension": ".py",
   "mimetype": "text/x-python",
   "name": "python",
   "nbconvert_exporter": "python",
   "pygments_lexer": "ipython3",
   "version": "3.6.5"
  }
 },
 "nbformat": 4,
 "nbformat_minor": 2
}
